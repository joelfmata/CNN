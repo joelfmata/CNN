{
 "cells": [
  {
   "attachments": {},
   "cell_type": "markdown",
   "metadata": {},
   "source": [
    "***Rede Neural Convolucional básica***"
   ]
  },
  {
   "cell_type": "code",
   "execution_count": 1115,
   "metadata": {},
   "outputs": [],
   "source": [
    "import tensorflow as tf\n",
    "import keras as k\n",
    "from keras.models import Sequential\n",
    "from keras.layers import Conv2D, MaxPooling2D, Flatten, Dense, BatchNormalization, Dropout"
   ]
  },
  {
   "cell_type": "code",
   "execution_count": 1116,
   "metadata": {},
   "outputs": [
    {
     "name": "stdout",
     "output_type": "stream",
     "text": [
      "2.12.0-rc0\n",
      "2.12.0\n"
     ]
    }
   ],
   "source": [
    "print(tf.__version__)\n",
    "print(k.__version__)"
   ]
  },
  {
   "cell_type": "code",
   "execution_count": 1117,
   "metadata": {},
   "outputs": [],
   "source": [
    "from keras.preprocessing.image import ImageDataGenerator"
   ]
  },
  {
   "attachments": {},
   "cell_type": "markdown",
   "metadata": {},
   "source": [
    "**Configurações da imagem**"
   ]
  },
  {
   "cell_type": "code",
   "execution_count": 1118,
   "metadata": {},
   "outputs": [],
   "source": [
    "width = 160\n",
    "height = 160"
   ]
  },
  {
   "cell_type": "code",
   "execution_count": 1119,
   "metadata": {},
   "outputs": [],
   "source": [
    "dataPath = 'dataset_personagens/dataset_personagens/'"
   ]
  },
  {
   "cell_type": "code",
   "execution_count": 1120,
   "metadata": {},
   "outputs": [],
   "source": [
    "BATCH_SIZE = 32\n",
    "\n",
    "train_datagen = ImageDataGenerator(\n",
    "    rescale=1./255,\n",
    "    shear_range = 0.2,\n",
    "    zoom_range=0.2,\n",
    "    horizontal_flip=True,\n",
    "    height_shift_range=0.05,\n",
    "    rotation_range=7\n",
    "    )\n",
    "\n",
    "validation_datagen = ImageDataGenerator(rescale=1./255)"
   ]
  },
  {
   "cell_type": "code",
   "execution_count": 1121,
   "metadata": {},
   "outputs": [
    {
     "name": "stdout",
     "output_type": "stream",
     "text": [
      "Found 196 images belonging to 2 classes.\n",
      "Found 73 images belonging to 2 classes.\n"
     ]
    }
   ],
   "source": [
    "training_set = train_datagen.flow_from_directory(dataPath + 'training_set', shuffle=True ,target_size=(width, height), batch_size=BATCH_SIZE, class_mode='binary')\n",
    "validation_set = validation_datagen.flow_from_directory(dataPath + 'test_set', shuffle=True ,target_size=(width, height), batch_size=BATCH_SIZE, class_mode='binary')"
   ]
  },
  {
   "attachments": {},
   "cell_type": "markdown",
   "metadata": {},
   "source": [
    "**Criação da rede**"
   ]
  },
  {
   "cell_type": "code",
   "execution_count": 1122,
   "metadata": {},
   "outputs": [],
   "source": [
    "classifier = Sequential()\n",
    "classifier.add(Conv2D(16, 3, padding='same', activation='relu', input_shape=(160, 160 ,3)))\n",
    "classifier.add(MaxPooling2D(pool_size=(2, 2)))\n",
    "classifier.add(Conv2D(32, 3, padding='same', activation='relu'))\n",
    "classifier.add(MaxPooling2D(pool_size=(2, 2)))\n",
    "classifier.add(Conv2D(64, 3, padding='same', activation='relu'))\n",
    "classifier.add(MaxPooling2D())\n",
    "classifier.add(Flatten())\n",
    "classifier.add(Dense(128, activation='relu'))\n",
    "classifier.add(Dense(128, activation='relu'))\n",
    "classifier.add(Dense(1, activation='sigmoid'))\n"
   ]
  },
  {
   "cell_type": "code",
   "execution_count": 1123,
   "metadata": {},
   "outputs": [],
   "source": [
    "classifier.compile(optimizer=k.optimizers.Adam(1e-3), loss='binary_crossentropy', metrics=['accuracy'])"
   ]
  },
  {
   "attachments": {},
   "cell_type": "markdown",
   "metadata": {},
   "source": [
    "***Agora deve ser feito o treinamento da IA***"
   ]
  },
  {
   "cell_type": "code",
   "execution_count": 1124,
   "metadata": {},
   "outputs": [
    {
     "name": "stderr",
     "output_type": "stream",
     "text": [
      "C:\\Users\\pedro\\AppData\\Local\\Temp\\ipykernel_12656\\312658599.py:5: UserWarning: `Model.fit_generator` is deprecated and will be removed in a future version. Please use `Model.fit`, which supports generators.\n",
      "  classifier.fit_generator(training_set, steps_per_epoch=steps_per_epoch, epochs=100,validation_data=validation_set, validation_steps=validation_steps, verbose=0)\n"
     ]
    },
    {
     "data": {
      "text/plain": [
       "<keras.callbacks.History at 0x16205db4810>"
      ]
     },
     "execution_count": 1124,
     "metadata": {},
     "output_type": "execute_result"
    }
   ],
   "source": [
    "steps_per_epoch = 6 # train_datagen.samples // train_data_gen.batch_size\n",
    "validation_steps = 2# validation_datagen.samples // validation_datagen.batch_size\n",
    "epochs=100\n",
    "\n",
    "classifier.fit_generator(training_set, steps_per_epoch=steps_per_epoch, epochs=epochs,validation_data=validation_set, validation_steps=validation_steps, verbose=0)"
   ]
  },
  {
   "attachments": {},
   "cell_type": "markdown",
   "metadata": {},
   "source": [
    "***Fazendo previsões com o modelo***"
   ]
  },
  {
   "cell_type": "code",
   "execution_count": 1125,
   "metadata": {},
   "outputs": [],
   "source": [
    "import numpy as np\n",
    "import tensorflow.keras.utils as image\n",
    "import os"
   ]
  },
  {
   "cell_type": "code",
   "execution_count": 1134,
   "metadata": {},
   "outputs": [
    {
     "name": "stdout",
     "output_type": "stream",
     "text": [
      "1.36986301369863% - [1.]\n",
      "2.73972602739726% - [1.]\n",
      "4.10958904109589% - [1.]\n",
      "5.47945205479452% - [1.]\n",
      "6.8493150684931505% - [0.]\n",
      "8.21917808219178% - [1.]\n",
      "9.58904109589041% - [1.]\n",
      "10.95890410958904% - [1.]\n",
      "12.32876712328767% - [1.]\n",
      "13.698630136986301% - [1.]\n",
      "15.068493150684931% - [1.]\n",
      "16.43835616438356% - [1.]\n",
      "17.80821917808219% - [1.]\n",
      "19.17808219178082% - [1.]\n",
      "20.54794520547945% - [0.]\n",
      "21.91780821917808% - [1.]\n",
      "23.28767123287671% - [0.]\n",
      "24.65753424657534% - [0.]\n",
      "26.027397260273972% - [0.]\n",
      "27.397260273972602% - [1.]\n",
      "28.767123287671232% - [0.]\n",
      "30.136986301369863% - [1.]\n",
      "31.506849315068493% - [1.]\n",
      "32.87671232876712% - [1.]\n",
      "34.24657534246575% - [1.]\n",
      "35.61643835616438% - [1.]\n",
      "36.986301369863014% - [0.]\n",
      "38.35616438356164% - [1.]\n",
      "39.726027397260275% - [1.]\n",
      "41.0958904109589% - [0.]\n",
      "42.465753424657535% - [1.]\n",
      "43.83561643835616% - [0.]\n",
      "45.20547945205479% - [0.]\n",
      "46.57534246575342% - [0.]\n",
      "47.94520547945205% - [0.]\n",
      "49.31506849315068% - [0.]\n",
      "50.68493150684932% - [0.]\n",
      "52.054794520547944% - [0.]\n",
      "53.42465753424658% - [0.]\n",
      "54.794520547945204% - [0.]\n",
      "56.16438356164384% - [1.]\n",
      "57.534246575342465% - [0.]\n",
      "58.9041095890411% - [0.]\n",
      "60.273972602739725% - [0.]\n",
      "61.64383561643836% - [0.]\n",
      "63.013698630136986% - [1.]\n",
      "64.38356164383562% - [0.]\n",
      "65.75342465753424% - [0.]\n",
      "67.12328767123287% - [0.]\n",
      "68.4931506849315% - [0.]\n",
      "69.86301369863014% - [0.]\n",
      "71.23287671232876% - [0.]\n",
      "72.6027397260274% - [0.]\n",
      "73.97260273972603% - [0.]\n",
      "75.34246575342466% - [0.]\n",
      "76.71232876712328% - [0.]\n",
      "78.08219178082192% - [0.]\n",
      "79.45205479452055% - [0.]\n",
      "80.82191780821918% - [0.]\n",
      "82.1917808219178% - [0.]\n",
      "83.56164383561644% - [0.]\n",
      "84.93150684931507% - [0.]\n",
      "86.3013698630137% - [0.]\n",
      "87.67123287671232% - [0.]\n",
      "89.04109589041096% - [0.]\n",
      "90.41095890410958% - [0.]\n",
      "91.78082191780823% - [0.]\n",
      "93.15068493150685% - [0.]\n",
      "94.52054794520548% - [1.]\n",
      "95.8904109589041% - [0.]\n",
      "97.26027397260275% - [0.]\n",
      "98.63013698630137% - [0.]\n",
      "100.0% - [0.]\n"
     ]
    }
   ],
   "source": [
    "path = dataPath + 'test_set/'\n",
    "homerPath = 'homer'\n",
    "bartPath = 'bart'\n",
    "homerCounter = 0\n",
    "bartCounter = 0\n",
    "\n",
    "results_prediction = [[0,0],\n",
    "           [0,0]]\n",
    "\n",
    "index = 0\n",
    "maxQtd = len(os.listdir(path + '/homer')) + len(os.listdir(path + '/bart'))\n",
    "\n",
    "pathHomer = path + 'homer'\n",
    "for fileName in os.listdir(pathHomer):\n",
    "    caminho = os.path.join(pathHomer, fileName)\n",
    "    test_image = image.load_img(caminho, target_size=(width, height))\n",
    "    test_image = image.img_to_array(test_image)\n",
    "    test_image = np.expand_dims(test_image, axis=0)\n",
    "    \n",
    "    result = classifier.predict(test_image, verbose=0)\n",
    "    training_set.class_indices\n",
    "    if(result[0][0] == 1):\n",
    "        results_prediction[0][0] += 1\n",
    "        prediction = 'Homer'\n",
    "        homerCounter += 1\n",
    "    else:\n",
    "        results_prediction[0][1] += 1\n",
    "        prediction = 'Bart'\n",
    "        bartCounter += 1\n",
    "    index += 1\n",
    "    print(f'{(index/maxQtd)*100}% - {result[0]}')\n",
    "    \n",
    "pathBart = path + 'bart'    \n",
    "for fileName in os.listdir(pathBart):\n",
    "    caminho = os.path.join(pathBart, fileName)\n",
    "    test_image = image.load_img(caminho, target_size=(width, height))\n",
    "    test_image = image.img_to_array(test_image)\n",
    "    test_image = np.expand_dims(test_image, axis=0)\n",
    "    \n",
    "    result = classifier.predict(test_image, verbose=0)\n",
    "    training_set.class_indices\n",
    "    if(result[0][0] == 1):\n",
    "        results_prediction[1][0] += 1\n",
    "        prediction = 'Homer'\n",
    "        homerCounter += 1\n",
    "    else:\n",
    "        results_prediction[1][1] += 1\n",
    "        prediction = 'Bart'\n",
    "        bartCounter += 1\n",
    "    index += 1\n",
    "    print(f'{(index/maxQtd)*100}% - {result[0]}')\n",
    "    \n",
    "        "
   ]
  },
  {
   "cell_type": "code",
   "execution_count": 1135,
   "metadata": {},
   "outputs": [
    {
     "data": {
      "text/plain": [
       "[[23, 8], [3, 39]]"
      ]
     },
     "execution_count": 1135,
     "metadata": {},
     "output_type": "execute_result"
    }
   ],
   "source": [
    "results_prediction"
   ]
  },
  {
   "cell_type": "code",
   "execution_count": 1136,
   "metadata": {},
   "outputs": [
    {
     "name": "stdout",
     "output_type": "stream",
     "text": [
      "Homer: 26 - Bart: 47\n"
     ]
    }
   ],
   "source": [
    "print(f'Homer: {homerCounter} - Bart: {bartCounter}')"
   ]
  },
  {
   "attachments": {},
   "cell_type": "markdown",
   "metadata": {},
   "source": [
    "***Imprime a matriz de confusão***"
   ]
  },
  {
   "cell_type": "code",
   "execution_count": 1137,
   "metadata": {},
   "outputs": [],
   "source": [
    "import matplotlib.pyplot as plt\n",
    "import seaborn as sns\n",
    "import numpy as np"
   ]
  },
  {
   "cell_type": "code",
   "execution_count": 1138,
   "metadata": {},
   "outputs": [
    {
     "data": {
      "image/png": "[encoded data removed]",
      "text/plain": [
       "<Figure size 640x480 with 2 Axes>"
      ]
     },
     "metadata": {},
     "output_type": "display_data"
    }
   ],
   "source": [
    "classes = ['Homer', 'Bart']\n",
    "sns.heatmap(results_prediction, annot=True, xticklabels=classes, yticklabels=classes, fmt='d', cmap='Blues')\n",
    "plt.xlabel('Classe Predita')\n",
    "plt.ylabel('Classe Real')\n",
    "plt.title('Matriz de Confusão')\n",
    "plt.show()"
   ]
  },
  {
   "cell_type": "code",
   "execution_count": 1139,
   "metadata": {},
   "outputs": [],
   "source": [
    "def calcular_metricas(matriz, classes = None):\n",
    "    if classes is None:\n",
    "        classes = np.arange(matriz.shape[0])\n",
    "    TP = np.diag(matriz)  # True Positives\n",
    "    FP = np.sum(matriz, axis=0) - TP  # False Positives\n",
    "    FN = np.sum(matriz, axis=1) - TP  # False Negatives\n",
    "    TN = np.sum(matriz) - (TP + FP + FN)  # True Negatives\n",
    "\n",
    "    # Precisão (Precision)\n",
    "    precisao = TP / (TP + FP)\n",
    "\n",
    "    # Sensibilidade (Recall) ou Taxa de Verdadeiros Positivos (TPR)\n",
    "    sensibilidade = TP / (TP + FN)\n",
    "\n",
    "    # F1\n",
    "    f1 = 2 * (precisao * sensibilidade) / (precisao + sensibilidade)\n",
    "\n",
    "    # Acurácia (Accuracy)\n",
    "    acuracia = (TP + TN) / (TP + TN + FP + FN)\n",
    "\n",
    "    metricas = {\n",
    "        'precisao': {x: y for x, y in zip(classes, precisao)},\n",
    "        'sensibilidade': {x: y for x, y in zip(classes, sensibilidade)},\n",
    "        'f1': {x: y for x, y in zip(classes, f1)},\n",
    "        'acuracia': acuracia,\n",
    "    }\n",
    "    \n",
    "    return metricas"
   ]
  },
  {
   "cell_type": "code",
   "execution_count": 1140,
   "metadata": {},
   "outputs": [],
   "source": [
    "def imprimir_metricas(metricas):\n",
    "    print('classe\\tPrecisão\\tRecall\\t\\tF1')\n",
    "    for classe in metricas['precisao']:\n",
    "        print(f'{classe}\\t{metricas[\"precisao\"][classe]:.4f}\\t\\t{metricas[\"sensibilidade\"][classe]:.4f}\\t\\t{metricas[\"f1\"][classe]:.4f}')\n",
    "    print(f'\\nAcurácia: {metricas[\"acuracia\"][0]:.4f}')\n",
    "    "
   ]
  },
  {
   "cell_type": "code",
   "execution_count": 1141,
   "metadata": {},
   "outputs": [
    {
     "name": "stdout",
     "output_type": "stream",
     "text": [
      "classe\tPrecisão\tRecall\t\tF1\n",
      "Homer\t0.8846\t\t0.7419\t\t0.8070\n",
      "Bart\t0.8298\t\t0.9286\t\t0.8764\n",
      "\n",
      "Acurácia: 0.8493\n"
     ]
    }
   ],
   "source": [
    "metricas = calcular_metricas(results_prediction, classes=classes)\n",
    "imprimir_metricas(metricas)"
   ]
  },
  {
   "cell_type": "code",
   "execution_count": null,
   "metadata": {},
   "outputs": [],
   "source": []
  }
 ],
 "metadata": {
  "kernelspec": {
   "display_name": "Python 3",
   "language": "python",
   "name": "python3"
  },
  "language_info": {
   "codemirror_mode": {
    "name": "ipython",
    "version": 3
   },
   "file_extension": ".py",
   "mimetype": "text/x-python",
   "name": "python",
   "nbconvert_exporter": "python",
   "pygments_lexer": "ipython3",
   "version": "3.11.1"
  },
  "orig_nbformat": 4
 },
 "nbformat": 4,
 "nbformat_minor": 2
}
